{
 "cells": [
  {
   "cell_type": "code",
   "execution_count": 1,
   "metadata": {},
   "outputs": [
    {
     "name": "stdout",
     "output_type": "stream",
     "text": [
      "CPU times: user 1min 16s, sys: 415 ms, total: 1min 16s\n",
      "Wall time: 1min 16s\n"
     ]
    },
    {
     "data": {
      "text/plain": [
       "751624"
      ]
     },
     "execution_count": 1,
     "metadata": {},
     "output_type": "execute_result"
    }
   ],
   "source": [
    "%%time\n",
    "# load YSO vocabulary\n",
    "import rdflib\n",
    "\n",
    "YSOPATH='../../../vocab/yso-skos.ttl'\n",
    "\n",
    "yso = rdflib.Graph()\n",
    "yso.parse(YSOPATH, format='turtle')\n",
    "\n",
    "# verify the number of triples\n",
    "len(yso)"
   ]
  },
  {
   "cell_type": "code",
   "execution_count": 2,
   "metadata": {},
   "outputs": [
    {
     "data": {
      "text/plain": [
       "5517"
      ]
     },
     "execution_count": 2,
     "metadata": {},
     "output_type": "execute_result"
    }
   ],
   "source": [
    "# collect the Wikidata mappings from within YSO into a dict\n",
    "from rdflib.namespace import SKOS\n",
    "\n",
    "yso_to_wd = {}\n",
    "\n",
    "for prop in (SKOS.closeMatch, SKOS.exactMatch):\n",
    "    for ysoc,item in yso.subject_objects(prop):\n",
    "        if not str(item).startswith('http://www.wikidata.org/entity/'):\n",
    "            continue  # not a wikidata mapping, skip\n",
    "        yso_to_wd[str(ysoc)] = str(item)\n",
    "\n",
    "# check the number of mappings we found\n",
    "len(yso_to_wd)"
   ]
  },
  {
   "cell_type": "code",
   "execution_count": 3,
   "metadata": {},
   "outputs": [
    {
     "data": {
      "text/plain": [
       "13759"
      ]
     },
     "execution_count": 3,
     "metadata": {},
     "output_type": "execute_result"
    }
   ],
   "source": [
    "# query Wikidata for the mappings to/from YSO and add them to the dict\n",
    "\n",
    "queryString = \"\"\"\n",
    "PREFIX wdt: <http://www.wikidata.org/prop/direct/>\n",
    "\n",
    "SELECT ?ysoc ?item\n",
    "WHERE {\n",
    "    ?item wdt:P2347 ?ysoid .\n",
    "    BIND(IRI(CONCAT('http://www.yso.fi/onto/yso/p', ?ysoid)) AS ?ysoc)\n",
    "}\n",
    "\"\"\"\n",
    "\n",
    "from SPARQLWrapper import SPARQLWrapper, JSON\n",
    "sparql = SPARQLWrapper(\"https://query.wikidata.org/sparql\")\n",
    "sparql.setReturnFormat(JSON)\n",
    "sparql.setQuery(queryString)\n",
    "results = sparql.query().convert()\n",
    "\n",
    "for result in results[\"results\"][\"bindings\"]:\n",
    "    yso_to_wd[result[\"ysoc\"][\"value\"]] = result[\"item\"][\"value\"]\n",
    "\n",
    "# check the number of mappings we now have\n",
    "len(yso_to_wd)"
   ]
  },
  {
   "cell_type": "code",
   "execution_count": 4,
   "metadata": {},
   "outputs": [
    {
     "name": "stdout",
     "output_type": "stream",
     "text": [
      "converted 1781559 of 1969586 samples\n"
     ]
    }
   ],
   "source": [
    "# process the yso-finna corpus file, converting YSO URIs to Wikidata URIs\n",
    "\n",
    "import gzip\n",
    "\n",
    "INPUT_CORPUS = '../../yso-finna-en.tsv.gz'\n",
    "OUTPUT_CORPUS = '../finna-wikidata-en.tsv.gz'\n",
    "\n",
    "samples = 0\n",
    "converted = 0\n",
    "\n",
    "with gzip.open(INPUT_CORPUS, 'rt') as incorpus:\n",
    "    with gzip.open(OUTPUT_CORPUS, 'wt') as outcorpus:\n",
    "        for line in incorpus:\n",
    "            samples += 1\n",
    "            text, uris = line.strip().split('\\t', 1)\n",
    "            uris = uris.split()\n",
    "            wd_uris = [wd_uri for wd_uri in [yso_to_wd.get(uri) for uri in uris] if wd_uri]\n",
    "            if not wd_uris:\n",
    "                continue  # no Wikidata URIs found for this sample\n",
    "            print(\"{}\\t{}\".format(text, ' '.join(wd_uris)), file=outcorpus)\n",
    "            converted += 1\n",
    "\n",
    "print(\"converted {} of {} samples\".format(converted, samples))"
   ]
  },
  {
   "cell_type": "code",
   "execution_count": null,
   "metadata": {},
   "outputs": [],
   "source": []
  }
 ],
 "metadata": {
  "kernelspec": {
   "display_name": "Python 3",
   "language": "python",
   "name": "python3"
  },
  "language_info": {
   "codemirror_mode": {
    "name": "ipython",
    "version": 3
   },
   "file_extension": ".py",
   "mimetype": "text/x-python",
   "name": "python",
   "nbconvert_exporter": "python",
   "pygments_lexer": "ipython3",
   "version": "3.8.0"
  }
 },
 "nbformat": 4,
 "nbformat_minor": 4
}
